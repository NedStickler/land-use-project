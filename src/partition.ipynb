{
 "cells": [
  {
   "cell_type": "code",
   "execution_count": null,
   "id": "7c08b101",
   "metadata": {},
   "outputs": [],
   "source": [
    "import geopandas as gpd\n",
    "from shapely.geometry import box"
   ]
  },
  {
   "cell_type": "code",
   "execution_count": null,
   "id": "9f230ebb",
   "metadata": {},
   "outputs": [],
   "source": [
    "def partition(w, h, min):\n",
    "    if min < 0.01: raise ValueError(\"Minimum bbox area must be at least 0.01 metres\")\n",
    "    new_w = w / 2\n",
    "    new_h = h / 2\n",
    "    if new_w * new_h < min:\n",
    "        return w, h\n",
    "    return partition(new_w, new_h, min)\n",
    "\n",
    "def split_bbox(bbox, min_area):\n",
    "    bounds = bbox.bounds\n",
    "    width = bounds[2] - bounds[0]\n",
    "    height = bounds[3] - bounds[1]\n",
    "    w, h = partition(width, height, min_area)\n",
    "\n",
    "    bboxes = []\n",
    "    for i in range(int(width / w)):\n",
    "        for j in range(int(height / h)):\n",
    "            b = box(bounds[0] + i * w, bounds[1] + j * h, bounds[0] + (i+1) * w, bounds[1] + (j+1) * h)\n",
    "            bboxes.append(b)\n",
    "    return bboxes\n",
    "\n",
    "bbox = box(0, 0, 16, 12)\n",
    "bboxes = split_bbox(bbox, 10)\n",
    "gdf = gpd.GeoDataFrame({\"geometry\": bboxes})\n",
    "gdf.explore()"
   ]
  }
 ],
 "metadata": {
  "kernelspec": {
   "display_name": "venv",
   "language": "python",
   "name": "python3"
  },
  "language_info": {
   "codemirror_mode": {
    "name": "ipython",
    "version": 3
   },
   "file_extension": ".py",
   "mimetype": "text/x-python",
   "name": "python",
   "nbconvert_exporter": "python",
   "pygments_lexer": "ipython3",
   "version": "3.10.11"
  }
 },
 "nbformat": 4,
 "nbformat_minor": 5
}
