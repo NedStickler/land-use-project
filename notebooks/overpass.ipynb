{
 "cells": [
  {
   "cell_type": "code",
   "execution_count": 3,
   "id": "95f5024f",
   "metadata": {},
   "outputs": [],
   "source": [
    "import overpy\n",
    "import geopandas as gpd\n",
    "from shapely.geometry import Polygon, box\n",
    "from tqdm import tqdm"
   ]
  },
  {
   "cell_type": "code",
   "execution_count": null,
   "id": "a5c37685",
   "metadata": {},
   "outputs": [],
   "source": [
    "def get_land_use(bbox: box) -> gpd.GeoDataFrame:\n",
    "    api = overpy.Overpass()\n",
    "    query = f\"\"\"\n",
    "    [out:json];\n",
    "    wr[\"landuse\"]({bbox.bounds[0]}, {bbox.bounds[1]}, {bbox.bounds[2]}, {bbox.bounds[3]});\n",
    "    (._;>;);\n",
    "    out body;\n",
    "    \"\"\"\n",
    "\n",
    "    result = api.query(query)\n",
    "    return result\n",
    "\n",
    "    geoms = []\n",
    "    land_use = []\n",
    "    for way in tqdm(result.ways):\n",
    "        try:\n",
    "            coords = [(node.lon, node.lat) for node in way.nodes]\n",
    "            \n",
    "            if coords:\n",
    "                polygon = Polygon(coords)\n",
    "                geoms.append(polygon)\n",
    "                land_use.append(way.tags.get(\"landuse\"))\n",
    "        except:\n",
    "            pass\n",
    "    \n",
    "    return gpd.GeoDataFrame({\"geometry\": geoms, \"landuse\": land_use}, crs=\"EPSG:4326\")"
   ]
  },
  {
   "cell_type": "code",
   "execution_count": 14,
   "id": "2809db2a",
   "metadata": {},
   "outputs": [
    {
     "ename": "OverpassBadRequest",
     "evalue": "Error: line 3: parse error: ';' expected - 'wr' found. ",
     "output_type": "error",
     "traceback": [
      "\u001b[1;31m---------------------------------------------------------------------------\u001b[0m",
      "\u001b[1;31mOverpassBadRequest\u001b[0m                        Traceback (most recent call last)",
      "Cell \u001b[1;32mIn[14], line 2\u001b[0m\n\u001b[0;32m      1\u001b[0m bbox \u001b[38;5;241m=\u001b[39m box(\u001b[38;5;241m55.66731601212282\u001b[39m, \u001b[38;5;241m12.560585920836248\u001b[39m, \u001b[38;5;241m55.699960803118294\u001b[39m, \u001b[38;5;241m12.607727632258538\u001b[39m)\n\u001b[1;32m----> 2\u001b[0m gdf \u001b[38;5;241m=\u001b[39m \u001b[43mget_land_use\u001b[49m\u001b[43m(\u001b[49m\u001b[43mbbox\u001b[49m\u001b[43m)\u001b[49m\n\u001b[0;32m      3\u001b[0m \u001b[38;5;66;03m# gdf.explore(\"landuse\")\u001b[39;00m\n\u001b[0;32m      4\u001b[0m gdf\n",
      "Cell \u001b[1;32mIn[13], line 10\u001b[0m, in \u001b[0;36mget_land_use\u001b[1;34m(bbox)\u001b[0m\n\u001b[0;32m      2\u001b[0m api \u001b[38;5;241m=\u001b[39m overpy\u001b[38;5;241m.\u001b[39mOverpass()\n\u001b[0;32m      3\u001b[0m query \u001b[38;5;241m=\u001b[39m \u001b[38;5;124mf\u001b[39m\u001b[38;5;124m\"\"\"\u001b[39m\n\u001b[0;32m      4\u001b[0m \u001b[38;5;124m[out:json]\u001b[39m\n\u001b[0;32m      5\u001b[0m \u001b[38;5;124mwr[\u001b[39m\u001b[38;5;124m\"\u001b[39m\u001b[38;5;124mlanduse\u001b[39m\u001b[38;5;124m\"\u001b[39m\u001b[38;5;124m](\u001b[39m\u001b[38;5;132;01m{\u001b[39;00mbbox\u001b[38;5;241m.\u001b[39mbounds[\u001b[38;5;241m0\u001b[39m]\u001b[38;5;132;01m}\u001b[39;00m\u001b[38;5;124m, \u001b[39m\u001b[38;5;132;01m{\u001b[39;00mbbox\u001b[38;5;241m.\u001b[39mbounds[\u001b[38;5;241m1\u001b[39m]\u001b[38;5;132;01m}\u001b[39;00m\u001b[38;5;124m, \u001b[39m\u001b[38;5;132;01m{\u001b[39;00mbbox\u001b[38;5;241m.\u001b[39mbounds[\u001b[38;5;241m2\u001b[39m]\u001b[38;5;132;01m}\u001b[39;00m\u001b[38;5;124m, \u001b[39m\u001b[38;5;132;01m{\u001b[39;00mbbox\u001b[38;5;241m.\u001b[39mbounds[\u001b[38;5;241m3\u001b[39m]\u001b[38;5;132;01m}\u001b[39;00m\u001b[38;5;124m);\u001b[39m\n\u001b[0;32m      6\u001b[0m \u001b[38;5;124m(._;>;);\u001b[39m\n\u001b[0;32m      7\u001b[0m \u001b[38;5;124mout body;\u001b[39m\n\u001b[0;32m      8\u001b[0m \u001b[38;5;124m\u001b[39m\u001b[38;5;124m\"\"\"\u001b[39m\n\u001b[1;32m---> 10\u001b[0m result \u001b[38;5;241m=\u001b[39m \u001b[43mapi\u001b[49m\u001b[38;5;241;43m.\u001b[39;49m\u001b[43mquery\u001b[49m\u001b[43m(\u001b[49m\u001b[43mquery\u001b[49m\u001b[43m)\u001b[49m\n\u001b[0;32m     11\u001b[0m \u001b[38;5;28;01mreturn\u001b[39;00m result\n\u001b[0;32m     13\u001b[0m geoms \u001b[38;5;241m=\u001b[39m []\n",
      "File \u001b[1;32mc:\\Users\\nedst\\Documents\\My Files\\Projects\\Land Use Project\\venv\\lib\\site-packages\\overpy\\__init__.py:175\u001b[0m, in \u001b[0;36mOverpass.query\u001b[1;34m(self, query)\u001b[0m\n\u001b[0;32m    170\u001b[0m current_exception \u001b[38;5;241m=\u001b[39m exception\u001b[38;5;241m.\u001b[39mOverpassBadRequest(\n\u001b[0;32m    171\u001b[0m     query,\n\u001b[0;32m    172\u001b[0m     msgs\u001b[38;5;241m=\u001b[39mmsgs\n\u001b[0;32m    173\u001b[0m )\n\u001b[0;32m    174\u001b[0m \u001b[38;5;28;01mif\u001b[39;00m \u001b[38;5;129;01mnot\u001b[39;00m do_retry:\n\u001b[1;32m--> 175\u001b[0m     \u001b[38;5;28;01mraise\u001b[39;00m current_exception\n\u001b[0;32m    176\u001b[0m retry_exceptions\u001b[38;5;241m.\u001b[39mappend(current_exception)\n\u001b[0;32m    177\u001b[0m \u001b[38;5;28;01mcontinue\u001b[39;00m\n",
      "\u001b[1;31mOverpassBadRequest\u001b[0m: Error: line 3: parse error: ';' expected - 'wr' found. "
     ]
    }
   ],
   "source": [
    "bbox = box(55.66731601212282, 12.560585920836248, 55.699960803118294, 12.607727632258538)\n",
    "gdf = get_land_use(bbox)\n",
    "# gdf.explore(\"landuse\")\n",
    "gdf"
   ]
  }
 ],
 "metadata": {
  "kernelspec": {
   "display_name": "venv",
   "language": "python",
   "name": "python3"
  },
  "language_info": {
   "codemirror_mode": {
    "name": "ipython",
    "version": 3
   },
   "file_extension": ".py",
   "mimetype": "text/x-python",
   "name": "python",
   "nbconvert_exporter": "python",
   "pygments_lexer": "ipython3",
   "version": "3.10.11"
  }
 },
 "nbformat": 4,
 "nbformat_minor": 5
}
