{
 "cells": [
  {
   "cell_type": "code",
   "execution_count": 2,
   "id": "72bbf626",
   "metadata": {},
   "outputs": [],
   "source": [
    "import pandas as pd\n",
    "import geopandas as gpd\n",
    "from shapely.geometry import box\n",
    "from rasterio import open"
   ]
  },
  {
   "cell_type": "code",
   "execution_count": 3,
   "id": "bbd7b940",
   "metadata": {},
   "outputs": [],
   "source": [
    "path = \"../data/raw/world_cover/terrascope_download_20250527_221321/WORLDCOVER/ESA_WORLDCOVER_10M_2021_V200/S2RGBNIR/ESA_WorldCover_10m_2021_v200_N51W001_S2RGBNIR.tif\"\n",
    "\n",
    "with open(path) as src:\n",
    "    bounds = src.bounds\n",
    "\n",
    "x = bounds.left + (bounds.right - bounds.left) / 2\n",
    "y = bounds.bottom + (bounds.top - bounds.bottom) / 2\n",
    "\n",
    "centroid = (x, y)"
   ]
  },
  {
   "cell_type": "code",
   "execution_count": 14,
   "id": "dc982da4",
   "metadata": {},
   "outputs": [],
   "source": [
    "size = 0.1\n",
    "x1y1 = (coord - size /  2 for coord in centroid)\n",
    "x2y2 = (coord + size / 2 for coord in centroid)\n",
    "bbox = box(*x1y1, *x2y2)"
   ]
  },
  {
   "cell_type": "code",
   "execution_count": 17,
   "id": "39e76da0",
   "metadata": {},
   "outputs": [],
   "source": [
    "sample_area = gpd.GeoDataFrame({\"geometry\": [bbox]}, crs=\"EPSG:4326\")"
   ]
  }
 ],
 "metadata": {
  "kernelspec": {
   "display_name": "venv",
   "language": "python",
   "name": "python3"
  },
  "language_info": {
   "codemirror_mode": {
    "name": "ipython",
    "version": 3
   },
   "file_extension": ".py",
   "mimetype": "text/x-python",
   "name": "python",
   "nbconvert_exporter": "python",
   "pygments_lexer": "ipython3",
   "version": "3.10.11"
  }
 },
 "nbformat": 4,
 "nbformat_minor": 5
}
