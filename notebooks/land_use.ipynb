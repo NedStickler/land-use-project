{
 "cells": [
  {
   "cell_type": "code",
   "execution_count": null,
   "id": "95f5024f",
   "metadata": {},
   "outputs": [],
   "source": [
    "import overpy\n",
    "import geopandas as gpd\n",
    "from shapely.geometry import Polygon, box\n",
    "from tqdm import tqdm"
   ]
  },
  {
   "cell_type": "code",
   "execution_count": null,
   "id": "a5c37685",
   "metadata": {},
   "outputs": [],
   "source": [
    "def way_to_polygon(way):\n",
    "    try:\n",
    "        coords = [(node.lon, node.lat) for node in way.nodes]\n",
    "        \n",
    "        if coords:\n",
    "            polygon = Polygon(coords)\n",
    "            land_use = way.tags.get(\"landuse\")\n",
    "        else:\n",
    "            return None, \"Failed\"\n",
    "    except:\n",
    "        return None, \"Exception\"\n",
    "    return polygon, land_use\n",
    "\n",
    "bbox = box(55.66731601212282, 12.560585920836248, 55.699960803118294, 12.607727632258538)\n",
    "api = overpy.Overpass()\n",
    "\n",
    "query = f\"\"\"\n",
    "[out:json];\n",
    "wr[\"landuse\"]({bbox.bounds[0]}, {bbox.bounds[1]}, {bbox.bounds[2]}, {bbox.bounds[3]});\n",
    "(._;>;);\n",
    "out body;\n",
    "\"\"\"\n",
    "\n",
    "result = api.query(query)\n",
    "\n",
    "geoms = []\n",
    "land_uses = []\n",
    "for way in tqdm(result.ways, bar_format=\"{l_bar}{bar:10}{r_bar}{bar:-10b}\"):\n",
    "    polygon, land_use = way_to_polygon(way)\n",
    "    geoms.append(polygon)\n",
    "    land_uses.append(land_use)\n",
    "\n",
    "gdf = gpd.GeoDataFrame({\"geometry\": geoms, \"landuse\": land_uses}, crs=\"EPSG:4326\")"
   ]
  },
  {
   "cell_type": "code",
   "execution_count": null,
   "id": "6a1242e2",
   "metadata": {},
   "outputs": [],
   "source": [
    "import osmnx as ox\n",
    "\n",
    "gdf = ox.features_from_bbox(bbox.bounds, tags={\"landuse\": True})"
   ]
  }
 ],
 "metadata": {
  "kernelspec": {
   "display_name": "venv",
   "language": "python",
   "name": "python3"
  },
  "language_info": {
   "codemirror_mode": {
    "name": "ipython",
    "version": 3
   },
   "file_extension": ".py",
   "mimetype": "text/x-python",
   "name": "python",
   "nbconvert_exporter": "python",
   "pygments_lexer": "ipython3",
   "version": "3.10.11"
  }
 },
 "nbformat": 4,
 "nbformat_minor": 5
}
