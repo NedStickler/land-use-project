{
 "cells": [
  {
   "cell_type": "code",
   "execution_count": null,
   "id": "95f5024f",
   "metadata": {},
   "outputs": [],
   "source": [
    "from shapely.geometry import box\n",
    "import osmnx as ox\n",
    "\n",
    "ox.settings.cache_folder = \"../data/cache\""
   ]
  },
  {
   "cell_type": "code",
   "execution_count": 9,
   "id": "4ddefb52",
   "metadata": {},
   "outputs": [],
   "source": [
    "size = 0.3\n",
    "centroid = (4.33356080866911, 50.85864602196642)\n",
    "x1y1 = (coord - size /  2 for coord in centroid)\n",
    "x2y2 = (coord + size / 2 for coord in centroid)\n",
    "bbox = box(*x1y1, *x2y2)"
   ]
  },
  {
   "cell_type": "code",
   "execution_count": 10,
   "id": "6a1242e2",
   "metadata": {},
   "outputs": [],
   "source": [
    "gdf = ox.features.features_from_polygon(bbox, tags={\"landuse\": True})\n",
    "gdf = gdf.reset_index()"
   ]
  }
 ],
 "metadata": {
  "kernelspec": {
   "display_name": "venv",
   "language": "python",
   "name": "python3"
  },
  "language_info": {
   "codemirror_mode": {
    "name": "ipython",
    "version": 3
   },
   "file_extension": ".py",
   "mimetype": "text/x-python",
   "name": "python",
   "nbconvert_exporter": "python",
   "pygments_lexer": "ipython3",
   "version": "3.10.11"
  }
 },
 "nbformat": 4,
 "nbformat_minor": 5
}
