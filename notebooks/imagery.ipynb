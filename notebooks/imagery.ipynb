{
 "cells": [
  {
   "cell_type": "code",
   "execution_count": 19,
   "id": "ab5b61b5",
   "metadata": {},
   "outputs": [],
   "source": [
    "from rasterio import open\n",
    "from rasterio.plot import show"
   ]
  },
  {
   "cell_type": "code",
   "execution_count": 15,
   "id": "0d6343d7",
   "metadata": {},
   "outputs": [],
   "source": [
    "path = \"../data/world_cover/terrascope_download_20250526_225409/WORLDCOVER/ESA_WORLDCOVER_10M_2021_V200/S2RGBNIR/ESA_WorldCover_10m_2021_v200_S60W028_S2RGBNIR.tif\""
   ]
  },
  {
   "cell_type": "code",
   "execution_count": 20,
   "id": "26341072",
   "metadata": {},
   "outputs": [
    {
     "name": "stdout",
     "output_type": "stream",
     "text": [
      "BoundingBox(left=-28.0, bottom=-60.0, right=-27.0, top=-59.0)\n"
     ]
    }
   ],
   "source": [
    "with open(path) as src:\n",
    "    print(src.bounds)"
   ]
  }
 ],
 "metadata": {
  "kernelspec": {
   "display_name": "venv",
   "language": "python",
   "name": "python3"
  },
  "language_info": {
   "codemirror_mode": {
    "name": "ipython",
    "version": 3
   },
   "file_extension": ".py",
   "mimetype": "text/x-python",
   "name": "python",
   "nbconvert_exporter": "python",
   "pygments_lexer": "ipython3",
   "version": "3.10.11"
  }
 },
 "nbformat": 4,
 "nbformat_minor": 5
}
